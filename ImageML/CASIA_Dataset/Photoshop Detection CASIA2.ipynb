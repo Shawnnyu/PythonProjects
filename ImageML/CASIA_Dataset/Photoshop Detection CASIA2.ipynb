{
 "cells": [
  {
   "cell_type": "code",
   "execution_count": 1,
   "id": "713920f2",
   "metadata": {},
   "outputs": [],
   "source": [
    "from PIL import Image, ImageChops, ImageEnhance\n",
    "import sys, os.path\n",
    "import numpy as np\n",
    "from tqdm.notebook import tqdm\n",
    "from sklearn.model_selection import train_test_split\n",
    "#np.set_printoptions(threshold=10)\n",
    "import tensorflow as tf\n",
    "from tensorflow import keras\n",
    "from tensorflow.keras.models import Sequential, load_model\n",
    "from keras.layers import Dense, Flatten, Conv2D, MaxPool2D, Dropout, Activation, GlobalAveragePooling2D\n",
    "from keras.optimizers import Adam\n",
    "from keras.callbacks import EarlyStopping\n",
    "from tensorflow.keras import layers\n",
    "import matplotlib.pyplot as plt\n",
    "\n",
    "import utils\n",
    "\n",
    "np.random.seed(2)\n",
    "tf.random.set_seed(2)"
   ]
  },
  {
   "cell_type": "code",
   "execution_count": 2,
   "id": "27b7c54c",
   "metadata": {},
   "outputs": [],
   "source": [
    "image_path_ela=\"D:/Casia/CASIA2/Ela\"\n",
    "image_path_resaved=\"D:/Casia/CASIA2/Ela/resaved\"\n",
    "\n",
    "\n",
    "def ela(filename):\n",
    "    file_name = filename.split(\"\\\\\")[-1]\n",
    "    resaved = f\"{image_path_resaved}/{file_name}\" + '.resaved.jpg'\n",
    "    ela = f\"{image_path_ela}/{file_name}\"  + '.ela.png'\n",
    "    im = Image.open(filename).convert('RGB')\n",
    "\n",
    "    im.save(resaved, 'JPEG', quality=95)\n",
    "    resaved_im = Image.open(resaved)\n",
    "\n",
    "    ela_im = ImageChops.difference(im, resaved_im)\n",
    "    extrema = ela_im.getextrema()\n",
    "    max_diff = max([ex[1] for ex in extrema])\n",
    "    scale = 255.0/max_diff\n",
    "\n",
    "    ela_im = ImageEnhance.Brightness(ela_im).enhance(scale)\n",
    "\n",
    "    ela_im.save(ela)\n",
    "    return ela_im"
   ]
  },
  {
   "cell_type": "code",
   "execution_count": 3,
   "id": "962383e7",
   "metadata": {},
   "outputs": [],
   "source": [
    "def convert_image_to_array(image_path):\n",
    "    size=(128,128)\n",
    "    return np.array(ela(image_path).resize(size)).flatten() / 255.0"
   ]
  },
  {
   "cell_type": "code",
   "execution_count": 5,
   "id": "ddcf0810",
   "metadata": {},
   "outputs": [],
   "source": [
    "X=[]\n",
    "Y=[]"
   ]
  },
  {
   "cell_type": "code",
   "execution_count": 6,
   "id": "37bcbc1f",
   "metadata": {},
   "outputs": [],
   "source": [
    "tp_path=\"D:\\Casia\\CASIA2\\Tp\\\\\"\n",
    "au_path=\"D:\\Casia\\CASIA2\\Au\\\\\""
   ]
  },
  {
   "cell_type": "code",
   "execution_count": 7,
   "id": "51ff6fa8",
   "metadata": {},
   "outputs": [
    {
     "data": {
      "application/vnd.jupyter.widget-view+json": {
       "model_id": "5231912336624db9a0fce1ad7b256967",
       "version_major": 2,
       "version_minor": 0
      },
      "text/plain": [
       "processing images:   0%|          | 0/7493 [00:00<?, ?it/s]"
      ]
     },
     "metadata": {},
     "output_type": "display_data"
    },
    {
     "name": "stdout",
     "output_type": "stream",
     "text": [
      "Total images: 7354\n",
      "Total labels: 7354\n"
     ]
    },
    {
     "data": {
      "application/vnd.jupyter.widget-view+json": {
       "model_id": "5e4496a39c304f9c95ab94dc1be65a89",
       "version_major": 2,
       "version_minor": 0
      },
      "text/plain": [
       "processing images:   0%|          | 0/5124 [00:00<?, ?it/s]"
      ]
     },
     "metadata": {},
     "output_type": "display_data"
    },
    {
     "name": "stdout",
     "output_type": "stream",
     "text": [
      "Total images: 12477\n",
      "Total labels: 12477\n"
     ]
    }
   ],
   "source": [
    "#authentic (1)\n",
    "for filename in tqdm(os.listdir(au_path), desc='processing images'):\n",
    "    if filename.endswith('jpg') or filename.endswith('png') or filename.endswith('tif'):\n",
    "        f = os.path.join(au_path, filename)\n",
    "        X.append(convert_image_to_array(f))\n",
    "        Y.append(1)\n",
    "\n",
    "        \n",
    "print(f'Total images: {len(X)}\\nTotal labels: {len(Y)}')\n",
    "\n",
    "#tp (0)\n",
    "for filename in tqdm(os.listdir(tp_path), desc='processing images'):\n",
    "    if filename.endswith('jpg') or filename.endswith('png') or filename.endswith('tif'):\n",
    "        f = os.path.join(tp_path, filename)\n",
    "        X.append(convert_image_to_array(f))\n",
    "        Y.append(0)\n",
    "\n",
    "        \n",
    "print(f'Total images: {len(X)}\\nTotal labels: {len(Y)}')"
   ]
  },
  {
   "cell_type": "code",
   "execution_count": 8,
   "id": "a6578441",
   "metadata": {},
   "outputs": [
    {
     "name": "stdout",
     "output_type": "stream",
     "text": [
      "(12477, 128, 128, 3)\n",
      "(12477,)\n"
     ]
    }
   ],
   "source": [
    "X=np.array(X)\n",
    "Y=np.array(Y)\n",
    "X = X.reshape(-1, 128, 128, 3)\n",
    "print(X.shape)\n",
    "print(Y.shape)"
   ]
  },
  {
   "cell_type": "code",
   "execution_count": 9,
   "id": "c53d49ea",
   "metadata": {},
   "outputs": [
    {
     "name": "stdout",
     "output_type": "stream",
     "text": [
      "the shape of the training set (input) is: (9981, 128, 128, 3)\n",
      "the shape of the training set (target) is: (9981,)\n",
      "\n",
      "the shape of the cross validation set (input) is: (1248, 128, 128, 3)\n",
      "the shape of the cross validation set (target) is: (1248,)\n",
      "\n",
      "the shape of the test set (input) is: (1248, 128, 128, 3)\n",
      "the shape of the test set (target) is: (1248,)\n"
     ]
    }
   ],
   "source": [
    "x_train, x_, y_train, y_ = train_test_split(X, Y, test_size=0.20, random_state=1)\n",
    "\n",
    "x_cv, x_test, y_cv, y_test = train_test_split(x_, y_, test_size=0.50, random_state=1)\n",
    "\n",
    "del x_, y_\n",
    "\n",
    "X=X.reshape(-1,1,1,1)\n",
    "\n",
    "print(f\"the shape of the training set (input) is: {x_train.shape}\")\n",
    "print(f\"the shape of the training set (target) is: {y_train.shape}\\n\")\n",
    "print(f\"the shape of the cross validation set (input) is: {x_cv.shape}\")\n",
    "print(f\"the shape of the cross validation set (target) is: {y_cv.shape}\\n\")\n",
    "print(f\"the shape of the test set (input) is: {x_test.shape}\")\n",
    "print(f\"the shape of the test set (target) is: {y_test.shape}\")"
   ]
  },
  {
   "cell_type": "code",
   "execution_count": null,
   "id": "0f318d39",
   "metadata": {},
   "outputs": [],
   "source": [
    "model = Sequential([\n",
    "    layers.Conv2D(32, 5, padding='same', activation='relu', input_shape = (128,128,3)),\n",
    "    layers.MaxPooling2D(),\n",
    "    layers.Dropout(0.2),\n",
    "    layers.Conv2D(32, 5, padding='same', activation='relu'),\n",
    "    layers.MaxPooling2D(),\n",
    "    layers.Dropout(0.2),\n",
    "    layers.Flatten(),\n",
    "    layers.Dense(256, activation='relu'),\n",
    "    layers.Dense(1, activation='sigmoid', name=\"outputs\")\n",
    "])"
   ]
  },
  {
   "cell_type": "code",
   "execution_count": null,
   "id": "25036fe1",
   "metadata": {},
   "outputs": [],
   "source": [
    "model.summary()"
   ]
  },
  {
   "cell_type": "code",
   "execution_count": null,
   "id": "30cf492c",
   "metadata": {},
   "outputs": [],
   "source": [
    "model.compile(optimizer=Adam(0.001),\n",
    "              loss='binary_crossentropy',\n",
    "              metrics=['accuracy'])\n",
    "\n",
    "print(f\"training {model.name}...\")\n",
    "\n",
    "early_stopping = EarlyStopping(monitor='val_accuracy',\n",
    "                              min_delta=0,\n",
    "                              patience=5,\n",
    "                              verbose=0, mode='auto')\n",
    "epochs=5\n",
    "history = model.fit(\n",
    "    x_train, y_train,\n",
    "    validation_data=(x_cv, y_cv),\n",
    "    epochs=epochs,\n",
    "    batch_size=32,\n",
    "    callbacks=[early_stopping]\n",
    ")\n"
   ]
  },
  {
   "cell_type": "code",
   "execution_count": null,
   "id": "ee32858b",
   "metadata": {},
   "outputs": [],
   "source": [
    "epochs=1\n",
    "history = model.fit(\n",
    "    x_train, y_train,\n",
    "    validation_data=(x_cv, y_cv),\n",
    "    epochs=epochs,\n",
    "    batch_size=32,\n",
    "    callbacks=[early_stopping]\n",
    ")"
   ]
  },
  {
   "cell_type": "code",
   "execution_count": null,
   "id": "8edbf2ad",
   "metadata": {},
   "outputs": [],
   "source": [
    "plt.plot(history.history['accuracy'])\n",
    "plt.plot(history.history['val_accuracy'])\n",
    "plt.title('model accuracy')\n",
    "plt.ylabel('accuracy')\n",
    "plt.xlabel('epoch')\n",
    "plt.legend(['Train', 'Validation'], loc='upper left')\n",
    "plt.show()\n",
    "# summarize history for loss\n",
    "plt.plot(history.history['loss'])\n",
    "plt.plot(history.history['val_loss'])\n",
    "plt.title('model loss')\n",
    "plt.ylabel('loss')\n",
    "plt.xlabel('epoch')\n",
    "plt.legend(['Train', 'Validation'], loc='upper left')\n",
    "plt.show()"
   ]
  },
  {
   "cell_type": "code",
   "execution_count": null,
   "id": "a2a7a730",
   "metadata": {},
   "outputs": [],
   "source": [
    "print(x_test.shape)"
   ]
  },
  {
   "cell_type": "code",
   "execution_count": null,
   "id": "00a3188b",
   "metadata": {},
   "outputs": [],
   "source": [
    "yhat=model.predict(x_test)"
   ]
  },
  {
   "cell_type": "code",
   "execution_count": null,
   "id": "a45c7c63",
   "metadata": {},
   "outputs": [],
   "source": [
    "yhat_r = np.round(yhat)\n",
    "test_error = np.mean(yhat_r != y_test)"
   ]
  },
  {
   "cell_type": "code",
   "execution_count": null,
   "id": "f06e6bd1",
   "metadata": {},
   "outputs": [],
   "source": [
    "correct = 0 #correctly predicted test images\n",
    "total = 0   #total test images\n",
    "\n",
    "for index,image in enumerate(tqdm(x_test,desc=\"Processing Images : \")):\n",
    "    image = image.reshape(-1, 128, 128, 3)\n",
    "    y_pred = model.predict(image)\n",
    "    y_pred_class = np.round(y_pred)\n",
    "    total += 1\n",
    "    if y_pred_class == y_test[index]: #if prediction is correct\n",
    "        correct += 1\n",
    "        \n"
   ]
  },
  {
   "cell_type": "code",
   "execution_count": null,
   "id": "439a375a",
   "metadata": {},
   "outputs": [],
   "source": [
    "print(f'Total test images: {total}\\nCorrectly predicted images: {correct}\\nAccuracy: {correct / total * 100.0} %')"
   ]
  },
  {
   "cell_type": "code",
   "execution_count": null,
   "id": "a18107ef",
   "metadata": {},
   "outputs": [],
   "source": [
    "model.save('Casia2_Model')"
   ]
  },
  {
   "cell_type": "code",
   "execution_count": 28,
   "id": "a370ee7f",
   "metadata": {},
   "outputs": [],
   "source": [
    "model_1 = Sequential([\n",
    "    layers.Conv2D(32, 5, padding='same', activation='relu',  kernel_regularizer=tf.keras.regularizers.l2(0.01),input_shape = (128,128,3)),\n",
    "    layers.MaxPooling2D(),\n",
    "    layers.Dropout(0.2),\n",
    "    layers.Conv2D(64, 5, padding='same', activation='relu',  kernel_regularizer=tf.keras.regularizers.l2(0.01)),\n",
    "    layers.MaxPooling2D(),\n",
    "    layers.Dropout(0.2),\n",
    "    layers.Flatten(),\n",
    "    layers.Dense(256, activation='relu'),\n",
    "    layers.Dense(1, activation='sigmoid', name=\"outputs\")\n",
    "])"
   ]
  },
  {
   "cell_type": "code",
   "execution_count": 29,
   "id": "b8432da9",
   "metadata": {},
   "outputs": [
    {
     "name": "stdout",
     "output_type": "stream",
     "text": [
      "training sequential_2...\n",
      "Epoch 1/20\n",
      "312/312 [==============================] - 152s 482ms/step - loss: 0.5562 - accuracy: 0.8240 - val_loss: 0.3551 - val_accuracy: 0.8846\n",
      "Epoch 2/20\n",
      "312/312 [==============================] - 150s 480ms/step - loss: 0.3705 - accuracy: 0.8749 - val_loss: 0.3309 - val_accuracy: 0.8878\n",
      "Epoch 3/20\n",
      "312/312 [==============================] - 149s 479ms/step - loss: 0.3362 - accuracy: 0.8868 - val_loss: 0.2918 - val_accuracy: 0.9046\n",
      "Epoch 4/20\n",
      "312/312 [==============================] - 150s 482ms/step - loss: 0.3085 - accuracy: 0.8918 - val_loss: 0.2919 - val_accuracy: 0.8966\n",
      "Epoch 5/20\n",
      "312/312 [==============================] - 151s 484ms/step - loss: 0.2824 - accuracy: 0.9002 - val_loss: 0.2450 - val_accuracy: 0.9175\n",
      "Epoch 6/20\n",
      "312/312 [==============================] - 152s 487ms/step - loss: 0.2603 - accuracy: 0.9055 - val_loss: 0.2563 - val_accuracy: 0.9143\n",
      "Epoch 7/20\n",
      "312/312 [==============================] - 149s 477ms/step - loss: 0.2393 - accuracy: 0.9128 - val_loss: 0.2337 - val_accuracy: 0.9159\n",
      "Epoch 8/20\n",
      "312/312 [==============================] - 149s 476ms/step - loss: 0.2394 - accuracy: 0.9119 - val_loss: 0.2255 - val_accuracy: 0.9279\n",
      "Epoch 9/20\n",
      "312/312 [==============================] - 149s 476ms/step - loss: 0.2258 - accuracy: 0.9146 - val_loss: 0.2148 - val_accuracy: 0.9319\n",
      "Epoch 10/20\n",
      "312/312 [==============================] - 153s 490ms/step - loss: 0.2204 - accuracy: 0.9180 - val_loss: 0.2266 - val_accuracy: 0.9199\n",
      "Epoch 11/20\n",
      "312/312 [==============================] - 149s 478ms/step - loss: 0.2237 - accuracy: 0.9155 - val_loss: 0.2286 - val_accuracy: 0.9199\n",
      "Epoch 12/20\n",
      "312/312 [==============================] - 149s 479ms/step - loss: 0.2191 - accuracy: 0.9195 - val_loss: 0.2154 - val_accuracy: 0.9295\n",
      "Epoch 13/20\n",
      "312/312 [==============================] - 153s 491ms/step - loss: 0.2118 - accuracy: 0.9216 - val_loss: 0.2163 - val_accuracy: 0.9271\n",
      "Epoch 14/20\n",
      "312/312 [==============================] - 159s 511ms/step - loss: 0.2005 - accuracy: 0.9266 - val_loss: 0.2097 - val_accuracy: 0.9327\n",
      "Epoch 15/20\n",
      "312/312 [==============================] - 160s 512ms/step - loss: 0.2053 - accuracy: 0.9235 - val_loss: 0.2648 - val_accuracy: 0.8942\n",
      "Epoch 16/20\n",
      "312/312 [==============================] - 155s 496ms/step - loss: 0.2044 - accuracy: 0.9229 - val_loss: 0.3388 - val_accuracy: 0.8902\n",
      "Epoch 17/20\n",
      "312/312 [==============================] - 156s 501ms/step - loss: 0.2028 - accuracy: 0.9235 - val_loss: 0.2230 - val_accuracy: 0.9223\n",
      "Epoch 18/20\n",
      "312/312 [==============================] - 146s 469ms/step - loss: 0.1908 - accuracy: 0.9278 - val_loss: 0.3270 - val_accuracy: 0.8790\n",
      "Epoch 19/20\n",
      "312/312 [==============================] - 150s 482ms/step - loss: 0.2008 - accuracy: 0.9243 - val_loss: 0.2258 - val_accuracy: 0.9199\n",
      "Epoch 20/20\n",
      "312/312 [==============================] - 152s 487ms/step - loss: 0.1834 - accuracy: 0.9318 - val_loss: 0.2232 - val_accuracy: 0.9239\n"
     ]
    }
   ],
   "source": [
    "model_1.compile(optimizer=Adam(0.001),\n",
    "              loss='binary_crossentropy',\n",
    "              metrics=['accuracy'])\n",
    "\n",
    "print(f\"training {model.name}...\")\n",
    "\n",
    "early_stopping = EarlyStopping(monitor='val_accuracy',\n",
    "                              min_delta=0,\n",
    "                              patience=5,\n",
    "                              verbose=0, mode='auto')\n",
    "epochs=20\n",
    "history = model_1.fit(\n",
    "    x_train, y_train,\n",
    "    validation_data=(x_cv, y_cv),\n",
    "    epochs=epochs,\n",
    "    batch_size=32,\n",
    ")\n"
   ]
  },
  {
   "cell_type": "code",
   "execution_count": null,
   "id": "63be60b4",
   "metadata": {},
   "outputs": [],
   "source": [
    "epochs=5\n",
    "history = model_1.fit(\n",
    "    x_train, y_train,\n",
    "    validation_data=(x_cv, y_cv),\n",
    "    epochs=epochs,\n",
    "    batch_size=32,\n",
    ")"
   ]
  },
  {
   "cell_type": "code",
   "execution_count": null,
   "id": "f215260c",
   "metadata": {},
   "outputs": [],
   "source": [
    "model.save('Casia2_Model_1')"
   ]
  },
  {
   "cell_type": "code",
   "execution_count": 13,
   "id": "40eef5a4",
   "metadata": {},
   "outputs": [],
   "source": [
    "model_2 = Sequential([\n",
    "    layers.Conv2D(32, 5, padding='same', activation='relu',  kernel_regularizer=tf.keras.regularizers.l2(0.01),input_shape = (128,128,3)),\n",
    "    layers.MaxPooling2D(),\n",
    "    layers.Dropout(0.2),\n",
    "    layers.Conv2D(64, 5, padding='same', activation='relu',  kernel_regularizer=tf.keras.regularizers.l2(0.01)),\n",
    "    layers.MaxPooling2D(),\n",
    "    layers.Dropout(0.2),\n",
    "    layers.Conv2D(32, 5, padding='same', activation='relu',  kernel_regularizer=tf.keras.regularizers.l2(0.01)),\n",
    "    layers.MaxPooling2D(),\n",
    "    layers.Dropout(0.2),\n",
    "    layers.Flatten(),\n",
    "    layers.Dense(256, activation='relu'),\n",
    "    layers.Dense(1, activation='sigmoid', name=\"outputs\")\n",
    "])"
   ]
  },
  {
   "cell_type": "code",
   "execution_count": 14,
   "id": "b99c963a",
   "metadata": {},
   "outputs": [
    {
     "name": "stdout",
     "output_type": "stream",
     "text": [
      "training sequential_2...\n",
      "Epoch 1/30\n",
      "312/312 [==============================] - 158s 502ms/step - loss: 0.5069 - accuracy: 0.8362 - val_loss: 0.4173 - val_accuracy: 0.8438\n",
      "Epoch 2/30\n",
      "312/312 [==============================] - 162s 519ms/step - loss: 0.3724 - accuracy: 0.8716 - val_loss: 0.3593 - val_accuracy: 0.8702\n",
      "Epoch 3/30\n",
      "312/312 [==============================] - 163s 523ms/step - loss: 0.3550 - accuracy: 0.8771 - val_loss: 0.3312 - val_accuracy: 0.8862\n",
      "Epoch 4/30\n",
      "312/312 [==============================] - 156s 501ms/step - loss: 0.3628 - accuracy: 0.8711 - val_loss: 0.3171 - val_accuracy: 0.8958\n",
      "Epoch 5/30\n",
      "312/312 [==============================] - 158s 508ms/step - loss: 0.3430 - accuracy: 0.8798 - val_loss: 0.3246 - val_accuracy: 0.8902\n",
      "Epoch 6/30\n",
      "312/312 [==============================] - 159s 510ms/step - loss: 0.3323 - accuracy: 0.8833 - val_loss: 0.3595 - val_accuracy: 0.8710\n",
      "Epoch 7/30\n",
      "312/312 [==============================] - 175s 561ms/step - loss: 0.3267 - accuracy: 0.8860 - val_loss: 0.3422 - val_accuracy: 0.8790\n",
      "Epoch 8/30\n",
      "312/312 [==============================] - 175s 562ms/step - loss: 0.3158 - accuracy: 0.8905 - val_loss: 0.2839 - val_accuracy: 0.9006\n",
      "Epoch 9/30\n",
      "312/312 [==============================] - 170s 546ms/step - loss: 0.3252 - accuracy: 0.8851 - val_loss: 0.3000 - val_accuracy: 0.9022\n",
      "Epoch 10/30\n",
      "312/312 [==============================] - 172s 552ms/step - loss: 0.3107 - accuracy: 0.8931 - val_loss: 0.2791 - val_accuracy: 0.9038\n",
      "Epoch 11/30\n",
      "312/312 [==============================] - 173s 554ms/step - loss: 0.3154 - accuracy: 0.8877 - val_loss: 0.2854 - val_accuracy: 0.9046\n",
      "Epoch 12/30\n",
      "312/312 [==============================] - 170s 545ms/step - loss: 0.3075 - accuracy: 0.8927 - val_loss: 0.2738 - val_accuracy: 0.9062\n",
      "Epoch 13/30\n",
      "312/312 [==============================] - 171s 547ms/step - loss: 0.3054 - accuracy: 0.8939 - val_loss: 0.2712 - val_accuracy: 0.9095\n",
      "Epoch 14/30\n",
      "312/312 [==============================] - 160s 514ms/step - loss: 0.3016 - accuracy: 0.8923 - val_loss: 0.2688 - val_accuracy: 0.9079\n",
      "Epoch 15/30\n",
      "312/312 [==============================] - 162s 519ms/step - loss: 0.2972 - accuracy: 0.8943 - val_loss: 0.4343 - val_accuracy: 0.8277\n",
      "Epoch 16/30\n",
      "312/312 [==============================] - 170s 545ms/step - loss: 0.2947 - accuracy: 0.8977 - val_loss: 0.2882 - val_accuracy: 0.8910\n",
      "Epoch 17/30\n",
      "312/312 [==============================] - 170s 543ms/step - loss: 0.3045 - accuracy: 0.8922 - val_loss: 0.2761 - val_accuracy: 0.9095\n",
      "Epoch 18/30\n",
      "312/312 [==============================] - 168s 540ms/step - loss: 0.3060 - accuracy: 0.8911 - val_loss: 0.3181 - val_accuracy: 0.8878\n",
      "Epoch 19/30\n",
      "312/312 [==============================] - 175s 561ms/step - loss: 0.2909 - accuracy: 0.8995 - val_loss: 0.3149 - val_accuracy: 0.8886\n",
      "Epoch 20/30\n",
      "312/312 [==============================] - 171s 547ms/step - loss: 0.2986 - accuracy: 0.8939 - val_loss: 0.2711 - val_accuracy: 0.9095\n",
      "Epoch 21/30\n",
      "312/312 [==============================] - 175s 560ms/step - loss: 0.3007 - accuracy: 0.8933 - val_loss: 0.2767 - val_accuracy: 0.9038\n",
      "Epoch 22/30\n",
      "312/312 [==============================] - 161s 517ms/step - loss: 0.2822 - accuracy: 0.9019 - val_loss: 0.3810 - val_accuracy: 0.8694\n",
      "Epoch 23/30\n",
      "312/312 [==============================] - 152s 486ms/step - loss: 0.2886 - accuracy: 0.8990 - val_loss: 0.3158 - val_accuracy: 0.8902\n",
      "Epoch 24/30\n",
      "312/312 [==============================] - 146s 466ms/step - loss: 0.2965 - accuracy: 0.8947 - val_loss: 0.2842 - val_accuracy: 0.9038\n",
      "Epoch 25/30\n",
      "312/312 [==============================] - 151s 484ms/step - loss: 0.2762 - accuracy: 0.9041 - val_loss: 0.2866 - val_accuracy: 0.9014\n",
      "Epoch 26/30\n",
      "312/312 [==============================] - 162s 519ms/step - loss: 0.2881 - accuracy: 0.8981 - val_loss: 0.3080 - val_accuracy: 0.9014\n",
      "Epoch 27/30\n",
      "312/312 [==============================] - 147s 473ms/step - loss: 0.2752 - accuracy: 0.9046 - val_loss: 0.2658 - val_accuracy: 0.9103\n",
      "Epoch 28/30\n",
      "312/312 [==============================] - 158s 506ms/step - loss: 0.2881 - accuracy: 0.8985 - val_loss: 0.2793 - val_accuracy: 0.9087\n",
      "Epoch 29/30\n",
      "312/312 [==============================] - 149s 478ms/step - loss: 0.2764 - accuracy: 0.9050 - val_loss: 0.2807 - val_accuracy: 0.9095\n",
      "Epoch 30/30\n",
      "312/312 [==============================] - 152s 487ms/step - loss: 0.2735 - accuracy: 0.9041 - val_loss: 0.2628 - val_accuracy: 0.9143\n"
     ]
    }
   ],
   "source": [
    "model_2.compile(optimizer=Adam(0.001),\n",
    "              loss='binary_crossentropy',\n",
    "              metrics=['accuracy'])\n",
    "\n",
    "print(f\"training {model_2.name}...\")\n",
    "\n",
    "early_stopping = EarlyStopping(monitor='val_accuracy',\n",
    "                              min_delta=0,\n",
    "                              patience=5,\n",
    "                              verbose=0, mode='auto')\n",
    "epochs=30\n",
    "history = model_2.fit(\n",
    "    x_train, y_train,\n",
    "    validation_data=(x_cv, y_cv),\n",
    "    epochs=epochs,\n",
    "    batch_size=32,\n",
    ")"
   ]
  },
  {
   "cell_type": "code",
   "execution_count": 15,
   "id": "52608b3e",
   "metadata": {},
   "outputs": [],
   "source": [
    "model = tf.keras.models.load_model('Casia2_model')"
   ]
  },
  {
   "cell_type": "code",
   "execution_count": 39,
   "id": "a1fcfbd9",
   "metadata": {},
   "outputs": [],
   "source": [
    "from sklearn.metrics import confusion_matrix, classification_report,ConfusionMatrixDisplay"
   ]
  },
  {
   "cell_type": "code",
   "execution_count": 37,
   "id": "fac964b8",
   "metadata": {},
   "outputs": [],
   "source": [
    "def display_conf_matrix(y_true, y_preds):\n",
    "    cm = confusion_matrix(y_true, y_preds)\n",
    "    cmd = ConfusionMatrixDisplay(cm, display_labels=['Tp','Au'])\n",
    "    cmd.plot()"
   ]
  },
  {
   "cell_type": "code",
   "execution_count": null,
   "id": "22f8cbcc",
   "metadata": {},
   "outputs": [],
   "source": [
    "Y_pred = model.predict(x_cv)               \n",
    "Y_pred_classes = np.round(Y_pred)           \n",
    "Y_true = y_cv                             \n",
    "\n",
    "confusion_mtx = confusion_matrix(Y_true, Y_pred_classes)    "
   ]
  },
  {
   "cell_type": "code",
   "execution_count": 41,
   "id": "49ac0143",
   "metadata": {},
   "outputs": [
    {
     "data": {
      "image/png": "[encoded data removed]",
      "text/plain": [
       "<Figure size 640x480 with 2 Axes>"
      ]
     },
     "metadata": {},
     "output_type": "display_data"
    }
   ],
   "source": [
    "display_conf_matrix(Y_true,Y_pred_sigmoid)  "
   ]
  },
  {
   "cell_type": "code",
   "execution_count": 42,
   "id": "b7022dc4",
   "metadata": {},
   "outputs": [
    {
     "name": "stdout",
     "output_type": "stream",
     "text": [
      "39/39 [==============================] - 4s 92ms/step\n"
     ]
    },
    {
     "data": {
      "image/png": "[encoded data removed]",
      "text/plain": [
       "<Figure size 640x480 with 2 Axes>"
      ]
     },
     "metadata": {},
     "output_type": "display_data"
    }
   ],
   "source": [
    "Y_pred_1 = model_1.predict(x_cv)               \n",
    "Y_pred_sigmoid_1 = np.round(Y_pred_1)           \n",
    "Y_true = y_cv                              \n",
    "display_conf_matrix(Y_true,Y_pred_sigmoid_1)  "
   ]
  },
  {
   "cell_type": "code",
   "execution_count": 43,
   "id": "80cff569",
   "metadata": {},
   "outputs": [
    {
     "name": "stderr",
     "output_type": "stream",
     "text": [
      "WARNING:absl:Found untraced functions such as _jit_compiled_convolution_op, _jit_compiled_convolution_op while saving (showing 2 of 2). These functions will not be directly callable after loading.\n"
     ]
    },
    {
     "name": "stdout",
     "output_type": "stream",
     "text": [
      "INFO:tensorflow:Assets written to: Casia_Model_1\\assets\n"
     ]
    },
    {
     "name": "stderr",
     "output_type": "stream",
     "text": [
      "INFO:tensorflow:Assets written to: Casia_Model_1\\assets\n"
     ]
    }
   ],
   "source": [
    "model_1.save('Casia_Model_1')"
   ]
  },
  {
   "cell_type": "code",
   "execution_count": 44,
   "id": "c17e5e8e",
   "metadata": {},
   "outputs": [
    {
     "name": "stdout",
     "output_type": "stream",
     "text": [
      "39/39 [==============================] - 4s 103ms/step\n"
     ]
    },
    {
     "data": {
      "image/png": "[encoded data removed]",
      "text/plain": [
       "<Figure size 640x480 with 2 Axes>"
      ]
     },
     "metadata": {},
     "output_type": "display_data"
    }
   ],
   "source": [
    "Y_pred_1 = model_2.predict(x_cv)               \n",
    "Y_pred_sigmoid_1 = np.round(Y_pred_1)           \n",
    "Y_true = y_cv                              \n",
    "display_conf_matrix(Y_true,Y_pred_sigmoid_1)  "
   ]
  },
  {
   "cell_type": "code",
   "execution_count": null,
   "id": "b2f8b778",
   "metadata": {},
   "outputs": [],
   "source": []
  }
 ],
 "metadata": {
  "kernelspec": {
   "display_name": "Python 3 (ipykernel)",
   "language": "python",
   "name": "python3"
  },
  "language_info": {
   "codemirror_mode": {
    "name": "ipython",
    "version": 3
   },
   "file_extension": ".py",
   "mimetype": "text/x-python",
   "name": "python",
   "nbconvert_exporter": "python",
   "pygments_lexer": "ipython3",
   "version": "3.10.11"
  }
 },
 "nbformat": 4,
 "nbformat_minor": 5
}
